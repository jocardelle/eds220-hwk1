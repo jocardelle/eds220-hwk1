{
 "cells": [
  {
   "cell_type": "code",
   "execution_count": null,
   "metadata": {
    "deletable": false,
    "editable": false
   },
   "outputs": [],
   "source": [
    "# Initialize Otter\n",
    "import otter\n",
    "grader = otter.Notebook(\"hwk1-task2-corals.ipynb\")"
   ]
  },
  {
   "cell_type": "markdown",
   "metadata": {},
   "source": [
    "# Task 2: Exploring coral diversity data\n",
    "\n",
    "## Instructions \n",
    "\n",
    "- First, update the following cell to have a link to *your* Homework 1 GitHub repository:\n"
   ]
  },
  {
   "cell_type": "markdown",
   "metadata": {},
   "source": [
    "**UPDATE THIS LINK:**\n",
    "\n",
    "[https://github.com/jocardelle/eds220-hwk1.git]()"
   ]
  },
  {
   "cell_type": "markdown",
   "metadata": {},
   "source": [
    "- This task covers topics on the lesson on [subsetting `pandas.DataFrames`](https://meds-eds-220.github.io/MEDS-eds-220-course/book/chapters/lesson-3-pandas-subsetting/lesson-3-pandas-subsetting.html). The best strategy to solve it is to get together with your classmates and work on it together after that lecture.\n",
    "\n",
    "- Review the [complete rubric for this task](https://docs.google.com/document/d/131OnUDOLpOl94SlaMU9nGqT998ABrjFS/edit?usp=sharing&ouid=111507336322611936333&rtpof=true&sd=true) before starting.\n",
    "\n",
    "- **Make at least 5 commits at moments you think are adequate.** We'll check your repository and view the commit history.\n",
    "\n",
    "- **Add comments for all your code.** Err on the side of commenting too much for now. Comments should follow best practices.\n",
    "\n",
    "- **Do not update the top cell with the `otter` import**, this is used internally for grading.\n",
    "\n"
   ]
  },
  {
   "cell_type": "markdown",
   "metadata": {
    "deletable": false,
    "editable": false
   },
   "source": [
    "<!-- BEGIN QUESTION -->\n",
    "\n",
    "\n",
    "## 1\n",
    "For this task we are going to use data about  [Western Indian Ocean Coral Diversity (McClanahan, 2023)](https://knb.ecoinformatics.org/view/doi%3A10.5063%2FF1K35S3H) from the Knowledge Network for Biocomplexity (KNB) data repository. \n",
    "\n",
    "a. Navigate to the dataset's link and explore the data package. \n",
    " \n",
    "b. Use the next markdown cell to add a brief description of the dataset, including a citation, date of access, and a link to the archive. \n"
   ]
  },
  {
   "cell_type": "markdown",
   "metadata": {},
   "source": [
    "### Dataset description\n",
    "This data is of coral reef locations, number of coral taxa, climate change variables, water quality varialbes, huyman resource management variables, and extraction varibles. The area sampled was Latitude S1.74 to 27.02, Longitude, E32.89 to 57.8. The sampling period was 1998-2022. The corals were sampled while sorkeling and scuba diving. \n",
    "\n",
    "### Data Citation\n",
    "Tim McClanahan. (2023). Western Indian Ocean Coral Diversity. Knowledge Network for Biocomplexity. [doi:10.5063/F1K35S3H](https://knb.ecoinformatics.org/view/doi%3A10.5063%2FF1K35S3H). Accessed October 6, 2024."
   ]
  },
  {
   "cell_type": "markdown",
   "metadata": {
    "deletable": false,
    "editable": false
   },
   "source": [
    "<!-- END QUESTION -->\n",
    "\n",
    "<!-- BEGIN QUESTION -->\n",
    "\n",
    "## 2\n",
    "In the next code cell, import the `pandas` package using standard abbreviation in a code cell.\n",
    "\n",
    "Read in the data from the URL using the `pd.read_csv` function and store it as `coral_div` like this:\n",
    "\n",
    "```\n",
    "# Read in data\n",
    "coral_div = pd.read_csv('the URL goes here')\n",
    "```"
   ]
  },
  {
   "cell_type": "code",
   "execution_count": 8,
   "metadata": {
    "tags": []
   },
   "outputs": [],
   "source": [
    "# Import pandas package\n",
    "import pandas as pd\n",
    "\n",
    "# Read in data\n",
    "coral_div = pd.read_csv('https://knb.ecoinformatics.org/knb/d1/mn/v2/object/urn%3Auuid%3Ae7d12a5a-f1a9-4a3e-aaa5-5222f67e799d')"
   ]
  },
  {
   "cell_type": "markdown",
   "metadata": {
    "deletable": false,
    "editable": false
   },
   "source": [
    "<!-- END QUESTION -->\n",
    "\n",
    "## 3\n",
    "\n",
    "Use attributes and methods of the `coral_div` data frame to obtain the following information about it:\n",
    "\n",
    "Use the code cells marked a-e. For each, add a comment explaining what is the ouput."
   ]
  },
  {
   "cell_type": "markdown",
   "metadata": {
    "deletable": false,
    "editable": false
   },
   "source": [
    "a. how many rows and columns does it have? Store your answers in the `rows` and `columns` variables. "
   ]
  },
  {
   "cell_type": "code",
   "execution_count": 13,
   "metadata": {
    "tags": []
   },
   "outputs": [
    {
     "name": "stdout",
     "output_type": "stream",
     "text": [
      "(575, 42)\n"
     ]
    }
   ],
   "source": [
    "# Use .shape to find the number of rows and columns\n",
    "print(coral_div.shape)\n",
    "\n",
    "# The output showed (575, 42) meaning the dataset has 575 rows and 42 columns\n",
    "rows = 575\n",
    "columns = 42"
   ]
  },
  {
   "cell_type": "markdown",
   "metadata": {
    "deletable": false,
    "editable": false
   },
   "source": [
    "b. What are the column names? Store your answer in the `coral_div_columns` variable."
   ]
  },
  {
   "cell_type": "code",
   "execution_count": 15,
   "metadata": {
    "tags": []
   },
   "outputs": [
    {
     "name": "stdout",
     "output_type": "stream",
     "text": [
      "Index(['PU_ID', 'PU_Lat', 'PU_Lon', 'Number_of_genera', 'Country', 'Ecoregion',\n",
      "       'Management', 'Habitat', 'Observer', 'Depth', 'Coralcover',\n",
      "       'SSTRateofRise', 'PARmax', 'Calcite', 'Dis_oxygen', 'mean.waveNRJ',\n",
      "       'Salinity_mean', 'andrello_reef_value', 'andrello_nutrients',\n",
      "       'mean.npp', 'TT_market_hrs', 'TT_pop_hrs', 'cumDHW', 'SST_Kurtosis',\n",
      "       'SST_Median', 'ChlorA_median', 'andrello_sediments', 'Current_vel_mean',\n",
      "       'Diff_attenuation', 'Grav_NP', 'Grav_NC', 'PH', 'SST_bimodality',\n",
      "       'SST_Skewness', 'ClimateStressModel', 'Netflow', 'Indegree',\n",
      "       'Outdegree', 'Retention', 'min_yr', 'max_yr', 'no_replicates'],\n",
      "      dtype='object')\n"
     ]
    }
   ],
   "source": [
    "# Find column names by using .columns\n",
    "print(coral_div.columns)\n",
    "\n",
    "# Store the column names as coral_div_columns\n",
    "coral_div_columns = coral_div.columns"
   ]
  },
  {
   "cell_type": "markdown",
   "metadata": {
    "deletable": false,
    "editable": false
   },
   "source": [
    "c. what are the data types of the columns? Store your answer in the `coral_div_types`."
   ]
  },
  {
   "cell_type": "code",
   "execution_count": 16,
   "metadata": {
    "tags": []
   },
   "outputs": [
    {
     "name": "stdout",
     "output_type": "stream",
     "text": [
      "PU_ID                    int64\n",
      "PU_Lat                 float64\n",
      "PU_Lon                 float64\n",
      "Number_of_genera         int64\n",
      "Country                 object\n",
      "Ecoregion               object\n",
      "Management              object\n",
      "Habitat                 object\n",
      "Observer                object\n",
      "Depth                  float64\n",
      "Coralcover               int64\n",
      "SSTRateofRise          float64\n",
      "PARmax                 float64\n",
      "Calcite                float64\n",
      "Dis_oxygen             float64\n",
      "mean.waveNRJ           float64\n",
      "Salinity_mean          float64\n",
      "andrello_reef_value      int64\n",
      "andrello_nutrients     float64\n",
      "mean.npp               float64\n",
      "TT_market_hrs          float64\n",
      "TT_pop_hrs             float64\n",
      "cumDHW                 float64\n",
      "SST_Kurtosis           float64\n",
      "SST_Median             float64\n",
      "ChlorA_median          float64\n",
      "andrello_sediments     float64\n",
      "Current_vel_mean       float64\n",
      "Diff_attenuation       float64\n",
      "Grav_NP                float64\n",
      "Grav_NC                float64\n",
      "PH                     float64\n",
      "SST_bimodality         float64\n",
      "SST_Skewness           float64\n",
      "ClimateStressModel     float64\n",
      "Netflow                float64\n",
      "Indegree               float64\n",
      "Outdegree              float64\n",
      "Retention              float64\n",
      "min_yr                   int64\n",
      "max_yr                   int64\n",
      "no_replicates            int64\n",
      "dtype: object\n"
     ]
    }
   ],
   "source": [
    "# Find data types of columns by using .dtypes\n",
    "print(coral_div.dtypes)\n",
    "\n",
    "# Store column data types as coral_div_types\n",
    "coral_div_types = coral_div.dtypes"
   ]
  },
  {
   "cell_type": "markdown",
   "metadata": {
    "deletable": false,
    "editable": false
   },
   "source": [
    "d. display the first 8 rows with all the column names. For this one, you will need to udpate a `pandas` option (HINT: check the first discussion section). Store your answer in the `first_8_rows` variable."
   ]
  },
  {
   "cell_type": "code",
   "execution_count": 17,
   "metadata": {
    "tags": []
   },
   "outputs": [
    {
     "name": "stdout",
     "output_type": "stream",
     "text": [
      "   PU_ID     PU_Lat    PU_Lon  Number_of_genera   Country  \\\n",
      "0      7  39.076711 -5.490011                35  Tanzania   \n",
      "1      7  39.076711 -5.490011                22  Tanzania   \n",
      "2      7  39.076711 -5.490011                25  Tanzania   \n",
      "3      7  39.076711 -5.490011                26  Tanzania   \n",
      "4     10  39.054253 -5.512514                27  Tanzania   \n",
      "5     10  39.054253 -5.512514                29  Tanzania   \n",
      "6     15  39.054253 -5.535017                19  Tanzania   \n",
      "7     39  39.009337 -5.647518                28  Tanzania   \n",
      "\n",
      "                  Ecoregion   Management           Habitat Observer  Depth  \\\n",
      "0  East African Coral Coast  UnfishedLow             Crest      Tim   11.0   \n",
      "1  East African Coral Coast  UnfishedLow  Lagoon/Back reef  Nyawira    2.0   \n",
      "2  East African Coral Coast  UnfishedLow             Slope  Nyawira    4.0   \n",
      "3  East African Coral Coast  UnfishedLow             Slope  Nyawira    3.0   \n",
      "4  East African Coral Coast  UnfishedLow  Lagoon/Back reef  Nyawira    1.5   \n",
      "5  East African Coral Coast  UnfishedLow  Lagoon/Back reef      Tim    1.5   \n",
      "6  East African Coral Coast   Restricted             Crest      Tim    8.0   \n",
      "7  East African Coral Coast  UnfishedLow  Lagoon/Back reef  Nyawira    3.0   \n",
      "\n",
      "   Coralcover  SSTRateofRise     PARmax   Calcite  Dis_oxygen  mean.waveNRJ  \\\n",
      "0          45       0.019214  54.747001  0.001075      4.7495      3.714321   \n",
      "1          45       0.019214  54.747001  0.001075      4.7495      3.714321   \n",
      "2          45       0.019214  54.747001  0.001075      4.7495      3.714321   \n",
      "3          45       0.019214  54.747001  0.001075      4.7495      3.714321   \n",
      "4          48       0.020051  55.395000  0.001747      4.7510      3.270938   \n",
      "5          48       0.020051  55.395000  0.001747      4.7510      3.270938   \n",
      "6          41       0.020051  55.395000  0.001747      4.7510      3.270938   \n",
      "7          49       0.021358  54.935499  0.001744      4.7540      2.857747   \n",
      "\n",
      "   Salinity_mean  andrello_reef_value  andrello_nutrients     mean.npp  \\\n",
      "0      35.167646                    0            8.388602  1139.112671   \n",
      "1      35.167646                    0            8.388602  1139.112671   \n",
      "2      35.167646                    0            8.388602  1139.112671   \n",
      "3      35.167646                    0            8.388602  1139.112671   \n",
      "4      35.102688                    0            6.731860  1126.355957   \n",
      "5      35.102688                    0            6.731860  1126.355957   \n",
      "6      35.102688                    0            6.731860  1126.355957   \n",
      "7      35.106329                    0            2.645199  1150.677856   \n",
      "\n",
      "   TT_market_hrs  TT_pop_hrs     cumDHW  SST_Kurtosis  SST_Median  \\\n",
      "0       1.383333    0.366667  24.133263     -0.803330      27.435   \n",
      "1       1.383333    0.366667  24.133263     -0.803330      27.435   \n",
      "2       1.383333    0.366667  24.133263     -0.803330      27.435   \n",
      "3       1.383333    0.366667  24.133263     -0.803330      27.435   \n",
      "4       1.383333    0.366667  25.342901     -0.793681      27.455   \n",
      "5       1.383333    0.366667  25.342901     -0.793681      27.455   \n",
      "6       1.383333    0.366667  25.342901     -0.793681      27.455   \n",
      "7       1.783333    0.333333  30.265219     -0.795494      27.525   \n",
      "\n",
      "   ChlorA_median  andrello_sediments  Current_vel_mean  Diff_attenuation  \\\n",
      "0       0.465182        53540.007810          0.541991           0.09475   \n",
      "1       0.465182        53540.007810          0.541991           0.09475   \n",
      "2       0.465182        53540.007810          0.541991           0.09475   \n",
      "3       0.465182        53540.007810          0.541991           0.09475   \n",
      "4       0.700521        38477.105470          0.690454           0.11400   \n",
      "5       0.700521        38477.105470          0.690454           0.11400   \n",
      "6       0.592692        38477.105470          0.690454           0.11400   \n",
      "7       0.656533         3224.024414          0.561659           0.10500   \n",
      "\n",
      "    Grav_NP    Grav_NC      PH  SST_bimodality  SST_Skewness  \\\n",
      "0  0.008503  32.387920  8.2175        0.462556     -0.128136   \n",
      "1  0.008503  32.387920  8.2175        0.462556     -0.128136   \n",
      "2  0.008503  32.387920  8.2175        0.462556     -0.128136   \n",
      "3  0.008503  32.387920  8.2175        0.462556     -0.128136   \n",
      "4  0.008503  32.387920  8.2180        0.461297     -0.134548   \n",
      "5  0.008503  32.387920  8.2180        0.461297     -0.134548   \n",
      "6  0.008503  32.387920  8.2180        0.461297     -0.134548   \n",
      "7  0.512126  19.634828  8.2185        0.464874     -0.158601   \n",
      "\n",
      "   ClimateStressModel   Netflow  Indegree  Outdegree  Retention  min_yr  \\\n",
      "0            0.596375  0.144498     98.25      74.75      14.00    2019   \n",
      "1            0.596375  0.144498     98.25      74.75      14.00    2010   \n",
      "2            0.596375  0.144498     98.25      74.75      14.00    2015   \n",
      "3            0.596375  0.144498     98.25      74.75      14.00    2016   \n",
      "4            0.629000  0.011721    112.75      51.50     183.75    2010   \n",
      "5            0.629000  0.011721    112.75      51.50     183.75    2015   \n",
      "6            0.595600  0.011721    112.75      51.50     183.75    2019   \n",
      "7            0.626000 -0.063087     96.50      40.75      35.75    2015   \n",
      "\n",
      "   max_yr  no_replicates  \n",
      "0    2019              1  \n",
      "1    2015              2  \n",
      "2    2015              1  \n",
      "3    2019              2  \n",
      "4    2019              3  \n",
      "5    2015              1  \n",
      "6    2019              1  \n",
      "7    2019              3  \n"
     ]
    }
   ],
   "source": [
    "# Set pandas option so all column names are displayed\n",
    "pd.set_option(\"display.max.columns\", None)\n",
    "\n",
    "# Display first 8 rows with all column names\n",
    "print(coral_div.head(8))\n",
    "\n",
    "# Find first 8 rows\n",
    "first_8_rows = coral_div.head(8)"
   ]
  },
  {
   "cell_type": "markdown",
   "metadata": {
    "deletable": false,
    "editable": false
   },
   "source": [
    "<!-- BEGIN QUESTION -->\n",
    "\n",
    "e. some other inital information you are interested in. "
   ]
  },
  {
   "cell_type": "code",
   "execution_count": 21,
   "metadata": {
    "tags": []
   },
   "outputs": [
    {
     "name": "stdout",
     "output_type": "stream",
     "text": [
      "   PU_ID     PU_Lat    PU_Lon  Number_of_genera   Country  \\\n",
      "0      7  39.076711 -5.490011                35  Tanzania   \n",
      "1      7  39.076711 -5.490011                22  Tanzania   \n",
      "2      7  39.076711 -5.490011                25  Tanzania   \n",
      "3      7  39.076711 -5.490011                26  Tanzania   \n",
      "4     10  39.054253 -5.512514                27  Tanzania   \n",
      "5     10  39.054253 -5.512514                29  Tanzania   \n",
      "6     15  39.054253 -5.535017                19  Tanzania   \n",
      "7     39  39.009337 -5.647518                28  Tanzania   \n",
      "\n",
      "                  Ecoregion   Management           Habitat Observer  Depth  \\\n",
      "0  East African Coral Coast  UnfishedLow             Crest      Tim   11.0   \n",
      "1  East African Coral Coast  UnfishedLow  Lagoon/Back reef  Nyawira    2.0   \n",
      "2  East African Coral Coast  UnfishedLow             Slope  Nyawira    4.0   \n",
      "3  East African Coral Coast  UnfishedLow             Slope  Nyawira    3.0   \n",
      "4  East African Coral Coast  UnfishedLow  Lagoon/Back reef  Nyawira    1.5   \n",
      "5  East African Coral Coast  UnfishedLow  Lagoon/Back reef      Tim    1.5   \n",
      "6  East African Coral Coast   Restricted             Crest      Tim    8.0   \n",
      "7  East African Coral Coast  UnfishedLow  Lagoon/Back reef  Nyawira    3.0   \n",
      "\n",
      "   Coralcover  SSTRateofRise     PARmax   Calcite  Dis_oxygen  mean.waveNRJ  \\\n",
      "0          45       0.019214  54.747001  0.001075      4.7495      3.714321   \n",
      "1          45       0.019214  54.747001  0.001075      4.7495      3.714321   \n",
      "2          45       0.019214  54.747001  0.001075      4.7495      3.714321   \n",
      "3          45       0.019214  54.747001  0.001075      4.7495      3.714321   \n",
      "4          48       0.020051  55.395000  0.001747      4.7510      3.270938   \n",
      "5          48       0.020051  55.395000  0.001747      4.7510      3.270938   \n",
      "6          41       0.020051  55.395000  0.001747      4.7510      3.270938   \n",
      "7          49       0.021358  54.935499  0.001744      4.7540      2.857747   \n",
      "\n",
      "   Salinity_mean  andrello_reef_value  andrello_nutrients     mean.npp  \\\n",
      "0      35.167646                    0            8.388602  1139.112671   \n",
      "1      35.167646                    0            8.388602  1139.112671   \n",
      "2      35.167646                    0            8.388602  1139.112671   \n",
      "3      35.167646                    0            8.388602  1139.112671   \n",
      "4      35.102688                    0            6.731860  1126.355957   \n",
      "5      35.102688                    0            6.731860  1126.355957   \n",
      "6      35.102688                    0            6.731860  1126.355957   \n",
      "7      35.106329                    0            2.645199  1150.677856   \n",
      "\n",
      "   TT_market_hrs  TT_pop_hrs     cumDHW  SST_Kurtosis  SST_Median  \\\n",
      "0       1.383333    0.366667  24.133263     -0.803330      27.435   \n",
      "1       1.383333    0.366667  24.133263     -0.803330      27.435   \n",
      "2       1.383333    0.366667  24.133263     -0.803330      27.435   \n",
      "3       1.383333    0.366667  24.133263     -0.803330      27.435   \n",
      "4       1.383333    0.366667  25.342901     -0.793681      27.455   \n",
      "5       1.383333    0.366667  25.342901     -0.793681      27.455   \n",
      "6       1.383333    0.366667  25.342901     -0.793681      27.455   \n",
      "7       1.783333    0.333333  30.265219     -0.795494      27.525   \n",
      "\n",
      "   ChlorA_median  andrello_sediments  Current_vel_mean  Diff_attenuation  \\\n",
      "0       0.465182        53540.007810          0.541991           0.09475   \n",
      "1       0.465182        53540.007810          0.541991           0.09475   \n",
      "2       0.465182        53540.007810          0.541991           0.09475   \n",
      "3       0.465182        53540.007810          0.541991           0.09475   \n",
      "4       0.700521        38477.105470          0.690454           0.11400   \n",
      "5       0.700521        38477.105470          0.690454           0.11400   \n",
      "6       0.592692        38477.105470          0.690454           0.11400   \n",
      "7       0.656533         3224.024414          0.561659           0.10500   \n",
      "\n",
      "    Grav_NP    Grav_NC      PH  SST_bimodality  SST_Skewness  \\\n",
      "0  0.008503  32.387920  8.2175        0.462556     -0.128136   \n",
      "1  0.008503  32.387920  8.2175        0.462556     -0.128136   \n",
      "2  0.008503  32.387920  8.2175        0.462556     -0.128136   \n",
      "3  0.008503  32.387920  8.2175        0.462556     -0.128136   \n",
      "4  0.008503  32.387920  8.2180        0.461297     -0.134548   \n",
      "5  0.008503  32.387920  8.2180        0.461297     -0.134548   \n",
      "6  0.008503  32.387920  8.2180        0.461297     -0.134548   \n",
      "7  0.512126  19.634828  8.2185        0.464874     -0.158601   \n",
      "\n",
      "   ClimateStressModel   Netflow  Indegree  Outdegree  Retention  min_yr  \\\n",
      "0            0.596375  0.144498     98.25      74.75      14.00    2019   \n",
      "1            0.596375  0.144498     98.25      74.75      14.00    2010   \n",
      "2            0.596375  0.144498     98.25      74.75      14.00    2015   \n",
      "3            0.596375  0.144498     98.25      74.75      14.00    2016   \n",
      "4            0.629000  0.011721    112.75      51.50     183.75    2010   \n",
      "5            0.629000  0.011721    112.75      51.50     183.75    2015   \n",
      "6            0.595600  0.011721    112.75      51.50     183.75    2019   \n",
      "7            0.626000 -0.063087     96.50      40.75      35.75    2015   \n",
      "\n",
      "   max_yr  no_replicates  \n",
      "0    2019              1  \n",
      "1    2015              2  \n",
      "2    2015              1  \n",
      "3    2019              2  \n",
      "4    2019              3  \n",
      "5    2015              1  \n",
      "6    2019              1  \n",
      "7    2019              3  \n",
      "PU_ID                  304\n",
      "PU_Lat                 152\n",
      "PU_Lon                 217\n",
      "Number_of_genera        37\n",
      "Country                 11\n",
      "Ecoregion                6\n",
      "Management               4\n",
      "Habitat                  6\n",
      "Observer                16\n",
      "Depth                  111\n",
      "Coralcover              46\n",
      "SSTRateofRise          283\n",
      "PARmax                 221\n",
      "Calcite                219\n",
      "Dis_oxygen             187\n",
      "mean.waveNRJ           237\n",
      "Salinity_mean          226\n",
      "andrello_reef_value    139\n",
      "andrello_nutrients     165\n",
      "mean.npp               197\n",
      "TT_market_hrs          129\n",
      "TT_pop_hrs              51\n",
      "cumDHW                 283\n",
      "SST_Kurtosis           283\n",
      "SST_Median             193\n",
      "ChlorA_median          283\n",
      "andrello_sediments     180\n",
      "Current_vel_mean       224\n",
      "Diff_attenuation       165\n",
      "Grav_NP                168\n",
      "Grav_NC                169\n",
      "PH                      62\n",
      "SST_bimodality         282\n",
      "SST_Skewness           283\n",
      "ClimateStressModel     297\n",
      "Netflow                126\n",
      "Indegree               110\n",
      "Outdegree              106\n",
      "Retention              109\n",
      "min_yr                  19\n",
      "max_yr                  19\n",
      "no_replicates           12\n",
      "dtype: int64\n"
     ]
    }
   ],
   "source": [
    "# View last 8 rows of dataset\n",
    "print(coral_div.head(8))\n",
    "\n",
    "# Find number of unique non-null entries for each column\n",
    "print(coral_div.nunique())"
   ]
  },
  {
   "cell_type": "markdown",
   "metadata": {
    "deletable": false,
    "editable": false
   },
   "source": [
    "<!-- END QUESTION -->\n",
    "\n",
    "<!-- BEGIN QUESTION -->\n",
    "\n",
    "## 4\n",
    "\n",
    "Some of the columns have data type `int64` and some have data type `float64`. What is the difference between these `int64` and `float64`?\n"
   ]
  },
  {
   "cell_type": "markdown",
   "metadata": {},
   "source": [
    "_Type your answer here, replacing this text._"
   ]
  },
  {
   "cell_type": "markdown",
   "metadata": {
    "deletable": false,
    "editable": false
   },
   "source": [
    "<!-- END QUESTION -->\n",
    "\n",
    "<!-- BEGIN QUESTION -->\n",
    "\n",
    "## 5\n",
    "\n",
    "The `Country` column indicates the country where the coral reef is located. Explain, in your own words, what is the ouput of `coral_div['Country']` and `coral_div['Country'].unique()`. "
   ]
  },
  {
   "cell_type": "markdown",
   "metadata": {},
   "source": [
    "_Type your answer here, replacing this text._"
   ]
  },
  {
   "cell_type": "markdown",
   "metadata": {
    "deletable": false,
    "editable": false
   },
   "source": [
    "<!-- END QUESTION -->\n",
    "\n",
    "## 6\n",
    "\n",
    "Check the dataset's [metadata file README_md.doc](https://knb.ecoinformatics.org/view/doi:10.5063/F1K35S3H) to find which column has information about who made an observation. How many observers collected this data? HINT: Check this [method for `pandas.DataFrame`](https://pandas.pydata.org/docs/reference/api/pandas.DataFrame.nunique.html). Store your answer in the `unique_observers` variable."
   ]
  },
  {
   "cell_type": "code",
   "execution_count": null,
   "metadata": {
    "tags": []
   },
   "outputs": [],
   "source": [
    "unique_observers = ..."
   ]
  },
  {
   "cell_type": "markdown",
   "metadata": {},
   "source": [
    "## 7\n",
    "\n",
    "The `Coralcover` column indicates the percent of hard coral cover in each 6 km reef cell surveyed. "
   ]
  },
  {
   "cell_type": "markdown",
   "metadata": {
    "deletable": false,
    "editable": false
   },
   "source": [
    "<!-- BEGIN QUESTION -->\n",
    "\n",
    "a)  Describe, in detail,  what kind of object `coral_div['Coralcover']>= 50` is."
   ]
  },
  {
   "cell_type": "markdown",
   "metadata": {},
   "source": [
    "_Type your answer here, replacing this text._"
   ]
  },
  {
   "cell_type": "markdown",
   "metadata": {
    "deletable": false,
    "editable": false
   },
   "source": [
    "<!-- END QUESTION -->\n",
    "\n",
    "<!-- BEGIN QUESTION -->\n",
    "\n",
    "b) What data is `coral_div[coral_div['Coralcover'] >= 50]` selecting?"
   ]
  },
  {
   "cell_type": "markdown",
   "metadata": {},
   "source": [
    "_Type your answer here, replacing this text._"
   ]
  },
  {
   "cell_type": "markdown",
   "metadata": {
    "deletable": false,
    "editable": false
   },
   "source": [
    "<!-- END QUESTION -->\n",
    "\n",
    "## 8\n",
    "\n",
    "Use code to find if there are there any sites with a 30% coral cover in Tanzania. Store your answer in the `coral_cover` variable."
   ]
  },
  {
   "cell_type": "code",
   "execution_count": null,
   "metadata": {
    "tags": []
   },
   "outputs": [],
   "source": [
    "coral_cover = ..."
   ]
  },
  {
   "cell_type": "code",
   "execution_count": null,
   "metadata": {
    "tags": []
   },
   "outputs": [],
   "source": [
    "# View the dataframe\n",
    "coral_cover"
   ]
  },
  {
   "cell_type": "markdown",
   "metadata": {
    "deletable": false,
    "editable": false
   },
   "source": [
    "## 9\n",
    "\n",
    "We are interested in looking at the PH of sea water (`PH` column),  mean salinity (`Salinity_mean` column), and depth of survey location in meters (`Depth` column). Subset the data frame by selecting only these column. Store your answer in the `filtered_data` variable"
   ]
  },
  {
   "cell_type": "code",
   "execution_count": null,
   "metadata": {
    "tags": []
   },
   "outputs": [],
   "source": [
    "filtered_data = ..."
   ]
  },
  {
   "cell_type": "code",
   "execution_count": null,
   "metadata": {
    "deletable": false,
    "editable": false
   },
   "outputs": [],
   "source": [
    "# View the dataframe\n",
    "filtered_data"
   ]
  },
  {
   "cell_type": "markdown",
   "metadata": {
    "deletable": false,
    "editable": false
   },
   "source": [
    "## 10\n",
    "The `max_yr` column indicates the year of last sampling at a given site. Select the PH, salinity, and depth for sites where sampling ended in 2017. Store your answer in the `sampling_2017` variable. \n"
   ]
  },
  {
   "cell_type": "code",
   "execution_count": null,
   "metadata": {
    "tags": []
   },
   "outputs": [],
   "source": [
    "sampling_2017 = ..."
   ]
  },
  {
   "cell_type": "code",
   "execution_count": null,
   "metadata": {
    "tags": []
   },
   "outputs": [],
   "source": [
    "# View the dataframe \n",
    "sampling_2017"
   ]
  },
  {
   "cell_type": "markdown",
   "metadata": {
    "deletable": false,
    "editable": false
   },
   "source": [
    "## 11\n",
    "Use `iloc` to select rows 95 throuhg 100 (including 100) in the 17th, 20th, and 28th columns and assign these values to a new variable called `subset`. View the new `subset` dataframe.\n",
    "\n",
    "HINT: the ouput columns should be `Salinity_mean`, `mean.npp` and `Current_vel_mean`. Make sure you are indexing from 0."
   ]
  },
  {
   "cell_type": "code",
   "execution_count": null,
   "metadata": {
    "tags": []
   },
   "outputs": [],
   "source": [
    "subset = ..."
   ]
  },
  {
   "cell_type": "code",
   "execution_count": null,
   "metadata": {
    "tags": []
   },
   "outputs": [],
   "source": [
    "# View the dataframe\n",
    "subset"
   ]
  },
  {
   "cell_type": "markdown",
   "metadata": {
    "deletable": false,
    "editable": false
   },
   "source": [
    "<!-- BEGIN QUESTION -->\n",
    "\n",
    "## 12 \n",
    "\n",
    "Run `subset.isna()`. Explain what this code does and what the output represents."
   ]
  },
  {
   "cell_type": "markdown",
   "metadata": {},
   "source": [
    "_Type your answer here, replacing this text._"
   ]
  },
  {
   "cell_type": "markdown",
   "metadata": {
    "deletable": false,
    "editable": false
   },
   "source": [
    "<!-- END QUESTION -->\n",
    "\n",
    "<!-- BEGIN QUESTION -->\n",
    "\n",
    "## 13\n",
    "Run `subset.isna().any()`. Explain in your own words what this code does and what the output represents. HINT: check the [documentation of `pandas.Sries.any`](https://pandas.pydata.org/docs/reference/api/pandas.Series.any.html).\n"
   ]
  },
  {
   "cell_type": "markdown",
   "metadata": {},
   "source": [
    "_Type your answer here, replacing this text._"
   ]
  },
  {
   "cell_type": "markdown",
   "metadata": {
    "deletable": false,
    "editable": false
   },
   "source": [
    "<!-- END QUESTION -->\n",
    "\n",
    "## 14 \n",
    "\n",
    "Select the rows in `subset` that have NA in the `Current_vel_mean` column. Store your answer in the `subset_na` variable."
   ]
  },
  {
   "cell_type": "code",
   "execution_count": null,
   "metadata": {
    "jp-MarkdownHeadingCollapsed": true,
    "tags": []
   },
   "outputs": [],
   "source": [
    "subset_na = ..."
   ]
  },
  {
   "cell_type": "code",
   "execution_count": null,
   "metadata": {
    "tags": []
   },
   "outputs": [],
   "source": [
    "# View the dataframe \n",
    "subset_na"
   ]
  }
 ],
 "metadata": {
  "kernelspec": {
   "display_name": "Python 3 (ipykernel)",
   "language": "python",
   "name": "python3"
  },
  "language_info": {
   "codemirror_mode": {
    "name": "ipython",
    "version": 3
   },
   "file_extension": ".py",
   "mimetype": "text/x-python",
   "name": "python",
   "nbconvert_exporter": "python",
   "pygments_lexer": "ipython3",
   "version": "3.7.13"
  },
  "vscode": {
   "interpreter": {
    "hash": "fd47fb98a7ce7f6a10c657f2a810bfb9d752313f8f3dd9c5b44bfbb724ce30e0"
   }
  }
 },
 "nbformat": 4,
 "nbformat_minor": 4
}
